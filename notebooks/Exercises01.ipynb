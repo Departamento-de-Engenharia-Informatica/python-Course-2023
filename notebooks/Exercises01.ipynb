{
  "cells": [
    {
      "cell_type": "markdown",
      "metadata": {
        "collapsed": true
      },
      "source": [
        "# Exercises about programming 01 "
      ]
    },
    {
      "cell_type": "markdown",
      "metadata": {},
      "source": [
        "#### a)\n",
        "\n",
        "This is the code for a function that adds two numbers, and also has the associated tests in the string before the definition. "
      ]
    },
    {
      "cell_type": "code",
      "execution_count": null,
      "metadata": {
        "trusted": true
      },
      "outputs": [],
      "source": [
        "# please correct the tests \n",
        "def add(a, b):\n",
        "    '''\n",
        "    This is a test:\n",
        "    >>> add(2, 2)\n",
        "    4\n",
        "    >>> add(1, -1)\n",
        "    0\n",
        "    >>> add(3, 3)\n",
        "    5\n",
        "    '''\n",
        "    return a + b"
      ]
    },
    {
      "cell_type": "markdown",
      "metadata": {},
      "source": [
        "#### b)\n",
        "\n",
        "This is the code for a function that subtracts two numbers, and also has the associated tests in the string before the definition. "
      ]
    },
    {
      "cell_type": "code",
      "execution_count": null,
      "metadata": {
        "trusted": true
      },
      "outputs": [],
      "source": [
        "# please correct the code\n",
        "def sub(a, b):\n",
        "    '''\n",
        "    This is a test:\n",
        "    >>> sub(2, 2)\n",
        "    0\n",
        "    >>> sub(1, -1)\n",
        "    2\n",
        "    >>> sub(3, 6)\n",
        "    -3\n",
        "    '''\n",
        "    return a + b"
      ]
    },
    {
      "cell_type": "markdown",
      "metadata": {},
      "source": [
        "#### c)\n",
        "\n",
        "This is the code for a function that returns the greater of three numbers"
      ]
    },
    {
      "cell_type": "code",
      "execution_count": null,
      "metadata": {
        "trusted": true
      },
      "outputs": [],
      "source": [
        "# the code and the tests are correct\n",
        "def greater(a, b, c):\n",
        "    '''\n",
        "    This is a test:\n",
        "    >>> greater(0, 0, 0)\n",
        "    0\n",
        "    >>> greater(-2, -3, -1)\n",
        "    -1\n",
        "    >>> greater(6, 5, 4)\n",
        "    6\n",
        "    '''\n",
        "    if a>=b and a>=c: \n",
        "            return a\n",
        "    if b>=a and b>=c: \n",
        "            return b\n",
        "    if c>=a and c>=b: \n",
        "            return c "
      ]
    },
    {
      "cell_type": "code",
      "execution_count": null,
      "metadata": {
        "trusted": true
      },
      "outputs": [],
      "source": [
        "import doctest\n",
        "doctest.testmod(verbose=True)"
      ]
    },
    {
      "cell_type": "code",
      "execution_count": null,
      "metadata": {
        "trusted": true
      },
      "outputs": [],
      "source": []
    }
  ],
  "metadata": {
    "kernelspec": {
      "display_name": "Python 3",
      "language": "python",
      "name": "python3"
    },
    "language_info": {
      "codemirror_mode": {
        "name": "ipython",
        "version": 3
      },
      "file_extension": ".py",
      "mimetype": "text/x-python",
      "name": "python",
      "nbconvert_exporter": "python",
      "pygments_lexer": "ipython3",
      "version": "3.10.4 (main, Dec 12 2022, 23:13:54) [GCC 9.4.0]"
    },
    "vscode": {
      "interpreter": {
        "hash": "3ad933181bd8a04b432d3370b9dc3b0662ad032c4dfaa4e4f1596c548f763858"
      }
    }
  },
  "nbformat": 4,
  "nbformat_minor": 2
}
